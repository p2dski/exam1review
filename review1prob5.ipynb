{
 "metadata": {
  "name": "review1prob5"
 },
 "nbformat": 3,
 "nbformat_minor": 0,
 "worksheets": [
  {
   "cells": [
    {
     "cell_type": "heading",
     "level": 6,
     "metadata": {},
     "source": [
      "5. Use the principle of induction to prove that $\\sum_{k=1}^n \\frac{k}{(k+1)!} =1-\\frac{1}{(n+1)!}$"
     ]
    },
    {
     "cell_type": "markdown",
     "metadata": {},
     "source": [
      "S(1): $\\sum_{k=1}^1 \\frac{1}{(1+1)!} =1-\\frac{1}{(1+1)!} \\Longrightarrow \\frac{1}{2} = \\frac{1}{2}$ "
     ]
    },
    {
     "cell_type": "markdown",
     "metadata": {},
     "source": [
      "Suppose S(n) is true\n",
      "\n",
      "S(n+1): $\\sum_{k=1}^{n+1} \\frac{k}{(k+1)!} =1-\\frac{1}{((n+1)+1)!} \\leftarrow $   \u22c5\u22c5\u22c5 Need to show this"
     ]
    },
    {
     "cell_type": "markdown",
     "metadata": {},
     "source": [
      "Then, $$\\sum_{k=1}^{n+1} \\frac{k}{(k+1)!} = \\sum_{k=1}^{n} \\frac{k}{(k+1)!} + \\frac{n+1}{((n+1)+1)!} = 1-\\frac{1}{(n+1)!} + \\frac{n+1}{((n+1)+1)!} = 1-\\frac{1}{(n+1)!} + \\frac{n+1}{(n+2)(n+1)!} $$ "
     ]
    },
    {
     "cell_type": "heading",
     "level": 4,
     "metadata": {},
     "source": [
      "$$ = 1 - \\frac{(n+2)}{(n+2)(n+1)!}+ \\frac{n+1}{(n+2)(n+1)!} = 1 - \\frac{(n+2)}{(n+2)(n+1)!}+ \\frac{n+1}{(n+2)(n+1)!} $$"
     ]
    },
    {
     "cell_type": "markdown",
     "metadata": {},
     "source": [
      "$$ = 1 - \\frac{1}{(n+2)!} = S(n+1) $$"
     ]
    },
    {
     "cell_type": "code",
     "collapsed": false,
     "input": [],
     "language": "python",
     "metadata": {},
     "outputs": []
    }
   ],
   "metadata": {}
  }
 ]
}