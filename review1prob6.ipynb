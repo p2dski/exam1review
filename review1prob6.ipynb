{
 "metadata": {
  "name": "review1prob6"
 },
 "nbformat": 3,
 "nbformat_minor": 0,
 "worksheets": [
  {
   "cells": [
    {
     "cell_type": "heading",
     "level": 4,
     "metadata": {},
     "source": [
      "6. Prove that $ n^3 + 5n $   is divisible by 6 for all $ n \\in \\mathbb{N} $"
     ]
    },
    {
     "cell_type": "markdown",
     "metadata": {},
     "source": [
      "Can show using induction:"
     ]
    },
    {
     "cell_type": "markdown",
     "metadata": {},
     "source": [
      "$ S(1) = 1^3 + 5*1 = 6 \\rightarrow $ checks out\n",
      "\n",
      "Then, suppose S(n) is true"
     ]
    },
    {
     "cell_type": "markdown",
     "metadata": {},
     "source": [
      "$ S(n+1) = (n+1)^3 + 5(n+1) = (n^3 + 3n^2 + 3n + 1) + 5n + 5 = n^3 + 3n^2 + 8n + 6 $"
     ]
    },
    {
     "cell_type": "markdown",
     "metadata": {},
     "source": [
      "Then factor out an S(n):\n",
      "\n",
      "$ = (n^3 + 5n) + 3n^2 + 3n + 6 = S(n) + 3n^2 + 3n + 6 = S(n) + 3(n^2 + n) + 6 $"
     ]
    },
    {
     "cell_type": "markdown",
     "metadata": {},
     "source": [
      "Now, if we can just show $ (n^2 + n) $ is divisible by 2, $ \\Rightarrow 3(n^2+n) $ is divisible by 6 $ \\Rightarrow S(n+1) $ is divisble by 6. You can show that the same exact way using induction."
     ]
    },
    {
     "cell_type": "markdown",
     "metadata": {},
     "source": [
      "And since we assume $ S(n) $ is divisible by 6, our $ S(n+1) $ will be divisible by 6. Which actually just proves that $ n^3 + 5n $ is divisible by 6."
     ]
    }
   ],
   "metadata": {}
  }
 ]
}